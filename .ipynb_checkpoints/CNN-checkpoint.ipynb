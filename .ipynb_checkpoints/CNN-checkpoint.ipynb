{
 "cells": [
  {
   "cell_type": "markdown",
   "metadata": {},
   "source": [
    "```Libraries```"
   ]
  },
  {
   "cell_type": "code",
   "execution_count": 4,
   "metadata": {},
   "outputs": [],
   "source": [
    "from keras.layers import *\n",
    "from keras.models import Sequential"
   ]
  },
  {
   "cell_type": "markdown",
   "metadata": {},
   "source": [
    "```Load Dataset```"
   ]
  },
  {
   "cell_type": "code",
   "execution_count": 5,
   "metadata": {},
   "outputs": [],
   "source": [
    "from keras.datasets import mnist\n",
    "from keras.utils import to_categorical\n",
    "(x_train, y_train), (x_test, y_test) = mnist.load_data()"
   ]
  },
  {
   "cell_type": "markdown",
   "metadata": {},
   "source": [
    "```Data Preprocessing```"
   ]
  },
  {
   "cell_type": "code",
   "execution_count": 9,
   "metadata": {},
   "outputs": [
    {
     "name": "stdout",
     "output_type": "stream",
     "text": [
      "(60000, 28, 28) (10000, 28, 28)\n",
      "(60000,) (10000,)\n"
     ]
    }
   ],
   "source": [
    "print(x_train.shape, x_test.shape)\n",
    "print(y_train.shape, y_test.shape)"
   ]
  },
  {
   "cell_type": "code",
   "execution_count": 11,
   "metadata": {},
   "outputs": [],
   "source": [
    "def ProcessData(x, y):\n",
    "    x = x.reshape((-1, 28, 28, 1))\n",
    "    y = to_categorical(y)\n",
    "    return x, y"
   ]
  },
  {
   "cell_type": "code",
   "execution_count": 12,
   "metadata": {},
   "outputs": [],
   "source": [
    "x_train, y_train = ProcessData(x_train, y_train)\n",
    "x_test , y_test = ProcessData(x_test, y_test)"
   ]
  },
  {
   "cell_type": "code",
   "execution_count": 13,
   "metadata": {},
   "outputs": [
    {
     "name": "stdout",
     "output_type": "stream",
     "text": [
      "(60000, 28, 28, 1) (10000, 28, 28, 1)\n",
      "(60000, 10) (10000, 10)\n"
     ]
    }
   ],
   "source": [
    "print(x_train.shape, x_test.shape)\n",
    "print(y_train.shape, y_test.shape)"
   ]
  },
  {
   "cell_type": "markdown",
   "metadata": {},
   "source": [
    "```Building a model```"
   ]
  },
  {
   "cell_type": "code",
   "execution_count": 20,
   "metadata": {},
   "outputs": [
    {
     "name": "stdout",
     "output_type": "stream",
     "text": [
      "Model: \"sequential_2\"\n",
      "_________________________________________________________________\n",
      "Layer (type)                 Output Shape              Param #   \n",
      "=================================================================\n",
      "conv2d_4 (Conv2D)            (None, 26, 26, 32)        320       \n",
      "_________________________________________________________________\n",
      "max_pooling2d_3 (MaxPooling2 (None, 13, 13, 32)        0         \n",
      "_________________________________________________________________\n",
      "conv2d_5 (Conv2D)            (None, 11, 11, 64)        18496     \n",
      "_________________________________________________________________\n",
      "max_pooling2d_4 (MaxPooling2 (None, 5, 5, 64)          0         \n",
      "_________________________________________________________________\n",
      "conv2d_6 (Conv2D)            (None, 3, 3, 64)          36928     \n",
      "_________________________________________________________________\n",
      "max_pooling2d_5 (MaxPooling2 (None, 1, 1, 64)          0         \n",
      "_________________________________________________________________\n",
      "flatten (Flatten)            (None, 64)                0         \n",
      "_________________________________________________________________\n",
      "dense (Dense)                (None, 64)                4160      \n",
      "_________________________________________________________________\n",
      "dense_1 (Dense)              (None, 10)                650       \n",
      "=================================================================\n",
      "Total params: 60,554\n",
      "Trainable params: 60,554\n",
      "Non-trainable params: 0\n",
      "_________________________________________________________________\n"
     ]
    }
   ],
   "source": [
    "model = Sequential()\n",
    "model.add(Conv2D(32, (3, 3), activation = \"relu\", input_shape = (28, 28, 1)))\n",
    "model.add(MaxPool2D((2, 2)))\n",
    "model.add(Conv2D(64, (3, 3), activation = \"relu\", input_shape = (28, 28, 1)))\n",
    "model.add(MaxPool2D((2, 2)))\n",
    "model.add(Conv2D(64, (3, 3), activation = \"relu\", input_shape = (28, 28, 1)))\n",
    "model.add(MaxPool2D((2, 2)))\n",
    "model.add(Flatten())\n",
    "model.add(Dense(64, activation = \"relu\"))\n",
    "model.add(Dense(10, activation = \"softmax\"))\n",
    "model.summary()"
   ]
  },
  {
   "cell_type": "code",
   "execution_count": 21,
   "metadata": {},
   "outputs": [
    {
     "name": "stdout",
     "output_type": "stream",
     "text": [
      "Epoch 1/20\n",
      "422/422 [==============================] - 25s 59ms/step - loss: 0.6225 - accuracy: 0.8643 - val_loss: 0.1555 - val_accuracy: 0.9528\n",
      "Epoch 2/20\n",
      "422/422 [==============================] - 32s 77ms/step - loss: 0.1225 - accuracy: 0.9631 - val_loss: 0.0795 - val_accuracy: 0.9777\n",
      "Epoch 3/20\n",
      "422/422 [==============================] - 28s 67ms/step - loss: 0.0825 - accuracy: 0.9741 - val_loss: 0.0824 - val_accuracy: 0.9755\n",
      "Epoch 4/20\n",
      "422/422 [==============================] - 27s 64ms/step - loss: 0.0668 - accuracy: 0.9791 - val_loss: 0.0758 - val_accuracy: 0.9787\n",
      "Epoch 5/20\n",
      "422/422 [==============================] - 29s 68ms/step - loss: 0.0534 - accuracy: 0.9834 - val_loss: 0.0852 - val_accuracy: 0.9757\n",
      "Epoch 6/20\n",
      "422/422 [==============================] - 27s 65ms/step - loss: 0.0465 - accuracy: 0.9855 - val_loss: 0.0690 - val_accuracy: 0.9815\n",
      "Epoch 7/20\n",
      "422/422 [==============================] - 28s 67ms/step - loss: 0.0397 - accuracy: 0.9869 - val_loss: 0.0628 - val_accuracy: 0.9850\n",
      "Epoch 8/20\n",
      "422/422 [==============================] - 27s 63ms/step - loss: 0.0346 - accuracy: 0.9882 - val_loss: 0.0682 - val_accuracy: 0.9845\n",
      "Epoch 9/20\n",
      "422/422 [==============================] - 27s 64ms/step - loss: 0.0345 - accuracy: 0.9881 - val_loss: 0.0617 - val_accuracy: 0.9853\n",
      "Epoch 10/20\n",
      "422/422 [==============================] - 28s 66ms/step - loss: 0.0277 - accuracy: 0.9908 - val_loss: 0.0715 - val_accuracy: 0.9845\n",
      "Epoch 11/20\n",
      "422/422 [==============================] - 27s 64ms/step - loss: 0.0274 - accuracy: 0.9906 - val_loss: 0.0686 - val_accuracy: 0.9840\n",
      "Epoch 12/20\n",
      "422/422 [==============================] - 28s 66ms/step - loss: 0.0261 - accuracy: 0.9912 - val_loss: 0.0704 - val_accuracy: 0.9822\n",
      "Epoch 13/20\n",
      "422/422 [==============================] - 28s 66ms/step - loss: 0.0224 - accuracy: 0.9920 - val_loss: 0.0758 - val_accuracy: 0.9830\n",
      "Epoch 14/20\n",
      "422/422 [==============================] - 28s 66ms/step - loss: 0.0267 - accuracy: 0.9914 - val_loss: 0.0657 - val_accuracy: 0.9855\n",
      "Epoch 15/20\n",
      "422/422 [==============================] - 31s 75ms/step - loss: 0.0231 - accuracy: 0.9924 - val_loss: 0.0584 - val_accuracy: 0.9857\n",
      "Epoch 16/20\n",
      "422/422 [==============================] - 26s 63ms/step - loss: 0.0207 - accuracy: 0.9934 - val_loss: 0.0734 - val_accuracy: 0.9858\n",
      "Epoch 17/20\n",
      "422/422 [==============================] - 31s 74ms/step - loss: 0.0142 - accuracy: 0.9951 - val_loss: 0.0863 - val_accuracy: 0.9813\n",
      "Epoch 18/20\n",
      "422/422 [==============================] - 29s 68ms/step - loss: 0.0203 - accuracy: 0.9934 - val_loss: 0.0996 - val_accuracy: 0.9797\n",
      "Epoch 19/20\n",
      "422/422 [==============================] - 26s 62ms/step - loss: 0.0151 - accuracy: 0.9954 - val_loss: 0.0819 - val_accuracy: 0.9865\n",
      "Epoch 20/20\n",
      "422/422 [==============================] - 26s 62ms/step - loss: 0.0181 - accuracy: 0.9940 - val_loss: 0.0829 - val_accuracy: 0.9865\n"
     ]
    }
   ],
   "source": [
    "model.compile(optimizer = \"adam\", loss = \"categorical_crossentropy\", metrics = [\"accuracy\"])\n",
    "history = model.fit(x_train, y_train, epochs = 20, validation_split = 0.1, batch_size = 128)\n",
    "                     "
   ]
  },
  {
   "cell_type": "code",
   "execution_count": 22,
   "metadata": {},
   "outputs": [
    {
     "name": "stdout",
     "output_type": "stream",
     "text": [
      "313/313 [==============================] - 1s 5ms/step - loss: 0.0939 - accuracy: 0.9818\n"
     ]
    },
    {
     "data": {
      "text/plain": [
       "[0.09394033253192902, 0.9818000197410583]"
      ]
     },
     "execution_count": 22,
     "metadata": {},
     "output_type": "execute_result"
    }
   ],
   "source": [
    "model.evaluate(x_test, y_test)"
   ]
  },
  {
   "cell_type": "code",
   "execution_count": null,
   "metadata": {},
   "outputs": [],
   "source": []
  }
 ],
 "metadata": {
  "kernelspec": {
   "display_name": "Python 3",
   "language": "python",
   "name": "python3"
  },
  "language_info": {
   "codemirror_mode": {
    "name": "ipython",
    "version": 3
   },
   "file_extension": ".py",
   "mimetype": "text/x-python",
   "name": "python",
   "nbconvert_exporter": "python",
   "pygments_lexer": "ipython3",
   "version": "3.7.6"
  }
 },
 "nbformat": 4,
 "nbformat_minor": 4
}
